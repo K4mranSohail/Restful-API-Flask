{
  "nbformat": 4,
  "nbformat_minor": 0,
  "metadata": {
    "colab": {
      "provenance": []
    },
    "kernelspec": {
      "name": "python3",
      "display_name": "Python 3"
    },
    "language_info": {
      "name": "python"
    }
  },
  "cells": [
    {
      "cell_type": "markdown",
      "source": [
        "# Restful API & Flask"
      ],
      "metadata": {
        "id": "g1tX7uc1SpNH"
      }
    },
    {
      "cell_type": "markdown",
      "source": [
        "Q1. What is a RESTful API?\n",
        "\n",
        " - A RESTful API (Representational State Transfer API) is a web service that follows the principles of REST (Representational State Transfer) architecture. It allows different software applications to communicate over the internet using HTTP methods."
      ],
      "metadata": {
        "id": "pO4JMvCfSu6i"
      }
    },
    {
      "cell_type": "markdown",
      "source": [
        "Q2. Explain the concept of API specification.\n",
        "\n",
        " - An API specification is a detailed document that defines how an API should behave, including its endpoints, request and response formats, authentication methods, and data models. It serves as a contract between the API provider and consumers, ensuring consistent and predictable interactions."
      ],
      "metadata": {
        "id": "qJRqRnjmS7p6"
      }
    },
    {
      "cell_type": "markdown",
      "source": [
        "Q3. What is Flask, and why is it popular for building APIs?\n",
        "\n",
        " - Flask is a lightweight and flexible Python web framework used for building web applications and APIs. It follows the WSGI (Web Server Gateway Interface) standard and is designed to be simple yet powerful."
      ],
      "metadata": {
        "id": "cO7RBTs-TG8t"
      }
    },
    {
      "cell_type": "markdown",
      "source": [
        "Q4. What is routing in Flask?\n",
        "\n",
        " - Routing in Flask refers to the process of mapping URLs (endpoints) to specific functions that handle requests. This allows users to access different parts of a web application or API based on the requested URL."
      ],
      "metadata": {
        "id": "CsA71aFNTU5T"
      }
    },
    {
      "cell_type": "markdown",
      "source": [
        "Q5. How do you create a simple Flask application?\n",
        "\n",
        " - Steps to Create a Simple Flask App\n",
        "\n",
        "1️⃣ Install Flask using pip.\n",
        "\n",
        "2️⃣ Create a Python file (e.g., app.py).\n",
        "\n",
        "3️⃣ Initialize a Flask app and define a route.\n",
        "\n",
        "4️⃣ Run the app using python app.py.\n",
        "\n",
        "5️⃣ Open a browser and visit http://127.0.0.1:5000/ to see the output.\n",
        "\n",
        "6️⃣ Add more routes to handle different pages or dynamic content."
      ],
      "metadata": {
        "id": "tOqXGxEgTgE6"
      }
    },
    {
      "cell_type": "markdown",
      "source": [
        "Q6. What are HTTP methods used in RESTful APIs?\n",
        "\n",
        " - HTTP Methods Used in RESTful APIs\n",
        "\n",
        "RESTful APIs use standard HTTP methods to perform operations on resources. The most common ones are:\n",
        "\n",
        "1️⃣ GET → Retrieves data from the server (Read).\n",
        "\n",
        "Example: Fetch user details\n",
        "\n",
        "GET /users/123\n",
        "\n",
        "2️⃣ POST → Creates a new resource on the server.\n",
        "\n",
        "Example: Add a new user\n",
        "\n",
        "POST /users (with user data in the request body)\n",
        "\n",
        "3️⃣ PUT → Updates an existing resource (Full Update).\n",
        "\n",
        "Example: Update a user’s details\n",
        "\n",
        "PUT /users/123 (replaces all user data)\n",
        "\n",
        "4️⃣ PATCH → Partially updates a resource.\n",
        "\n",
        "Example: Update only the user’s email\n",
        "\n",
        "PATCH /users/123 (modifies specific fields)\n",
        "\n",
        "5️⃣ DELETE → Removes a resource from the server.\n",
        "\n",
        "Example: Delete a user\n",
        "\n",
        "DELETE /users/123"
      ],
      "metadata": {
        "id": "2igUSEx_T_gd"
      }
    },
    {
      "cell_type": "markdown",
      "source": [
        "Q7.  What is the purpose of the @app.route() decorator in Flask?\n",
        "\n",
        " - Purpose of @app.route() Decorator in Flask\n",
        "\n",
        "The @app.route() decorator in Flask is used to define routes (URLs) that map to specific functions. When a user accesses a particular URL, Flask calls the corresponding function to handle the request."
      ],
      "metadata": {
        "id": "fW_3AeGaUPIR"
      }
    },
    {
      "cell_type": "markdown",
      "source": [
        "Q8. What is the difference between GET and POST HTTP methods?\n",
        "\n",
        " - The GET and POST HTTP methods serve different purposes in RESTful APIs. The GET method is used to retrieve data from the server and sends parameters in the URL, making it visible and cacheable. Since GET requests do not modify data, they are considered idempotent, meaning multiple identical requests produce the same result. In contrast, the POST method is used to send data to the server, typically to create a new resource. It includes data in the request body, making it more secure and suitable for handling sensitive information like login credentials or form submissions. Unlike GET, POST is not idempotent, meaning repeated requests can create multiple instances of a resource. For example, a GET request to /products?category=laptops retrieves a list of laptops, whereas a POST request to /users with a JSON payload creates a new user account."
      ],
      "metadata": {
        "id": "U7z31gCbUasY"
      }
    },
    {
      "cell_type": "markdown",
      "source": [
        "Q9.  How do you handle errors in Flask APIs?\n",
        "\n",
        " - Handling Errors in Flask APIs\n",
        "\n",
        "Flask provides several ways to handle errors in APIs to ensure better user experience and debugging.\n",
        "\n",
        "1️⃣ Using HTTP Status Codes → Return appropriate HTTP responses, such as 400 Bad Request for invalid input or 404 Not Found when a resource is missing.\n",
        "\n",
        "2️⃣ Custom Error Handlers → Define specific handlers for common errors like 404 Not Found or 500 Internal Server Error to return user-friendly JSON responses.\n",
        "\n",
        "3️⃣ Exception Handling with Try-Except → Use try-except blocks to catch runtime errors, such as division by zero or database errors, and return meaningful error messages.\n",
        "\n",
        "4️⃣ Logging Errors → Implement logging to record errors and help with debugging by tracking issues in production."
      ],
      "metadata": {
        "id": "EVN-5InHUlOT"
      }
    },
    {
      "cell_type": "markdown",
      "source": [
        "Q10. How do you connect Flask to a SQL database?\n",
        "\n",
        " - Connecting Flask to a SQL Database\n",
        "Flask can connect to SQL databases using SQLAlchemy, a powerful Object Relational Mapper (ORM) that simplifies database interactions."
      ],
      "metadata": {
        "id": "eaIvuYl3UyEX"
      }
    },
    {
      "cell_type": "markdown",
      "source": [
        "Q11. What is the role of Flask-SQLAlchemy?\n",
        "\n",
        " - Flask-SQLAlchemy is an extension for Flask that integrates SQLAlchemy, a powerful Object Relational Mapper (ORM), to manage databases efficiently. It simplifies database interactions by allowing developers to use Python classes instead of raw SQL queries."
      ],
      "metadata": {
        "id": "JJ5bVI4uVRf7"
      }
    },
    {
      "cell_type": "markdown",
      "source": [
        "Q12. What are Flask blueprints, and how are they useful?\n",
        "\n",
        " - A Flask Blueprint is a way to organize a Flask application into modular components. It helps break a large application into smaller, reusable parts, making the code more structured, maintainable, and scalable."
      ],
      "metadata": {
        "id": "3koXcT3uVcau"
      }
    },
    {
      "cell_type": "markdown",
      "source": [
        "Q13. What is the purpose of Flask's request object?\n",
        "\n",
        " - In Flask, the request object is used to access incoming HTTP request data from clients (e.g., browsers, API consumers). It allows handling various types of request-related information."
      ],
      "metadata": {
        "id": "xMgrH_0-VmPW"
      }
    },
    {
      "cell_type": "markdown",
      "source": [
        "Q14. How do you create a RESTful API endpoint using Flask?\n",
        "\n",
        " - Creating a RESTful API Endpoint Using Flask\n",
        "\n",
        "To create a RESTful API endpoint in Flask, follow these steps:\n",
        "\n",
        "1️⃣ Install Flask → Ensure Flask is installed using pip install flask.\n",
        "\n",
        "2️⃣ Initialize Flask App → Create a Flask application instance.\n",
        "\n",
        "3️⃣ Define API Routes → Use @app.route() to define endpoints and specify HTTP methods (GET, POST, PUT, DELETE).\n",
        "\n",
        "4️⃣ Handle Requests → Use Flask’s request object to retrieve query parameters, JSON data, or form data.\n",
        "\n",
        "5️⃣ Return JSON Responses → Use jsonify() to send structured responses."
      ],
      "metadata": {
        "id": "x1KVUsxyVuA7"
      }
    },
    {
      "cell_type": "markdown",
      "source": [
        "Q15. What is the purpose of Flask's jsonify() function?\n",
        "\n",
        " - Flask's jsonify() function is used to convert Python dictionaries, lists, or objects into JSON-formatted responses. It ensures that the API responses are correctly structured and include the appropriate MIME type (application/json)."
      ],
      "metadata": {
        "id": "zxLsBXZoV5UT"
      }
    },
    {
      "cell_type": "markdown",
      "source": [
        "Q16. Explain Flask’s url_for() function.\n",
        "\n",
        " - Flask’s url_for() function is used to dynamically generate URLs for routes defined in a Flask application. Instead of hardcoding URLs, url_for() ensures that links remain consistent and automatically update if routes change."
      ],
      "metadata": {
        "id": "_SOqrREZWCPF"
      }
    },
    {
      "cell_type": "markdown",
      "source": [
        "Q17. How does Flask handle static files (CSS, JavaScript, etc.)?\n",
        "\n",
        " - Flask automatically serves static files like CSS, JavaScript, and images from the static/ folder in the project directory."
      ],
      "metadata": {
        "id": "7Q9yG4szWK_k"
      }
    },
    {
      "cell_type": "markdown",
      "source": [
        "Q18. What is an API specification, and how does it help in building a Flask API?\n",
        "\n",
        " - An API specification is a formal document that defines how an API should function. It describes endpoints, request/response formats, HTTP methods, authentication, and error handling.\n",
        "\n",
        "How Does an API Specification Help in Building a Flask API?\n",
        "\n",
        "1️⃣ Standardization → Ensures consistency in API structure, making it easier for developers to understand and use.\n",
        "2️⃣ Clear Documentation → Acts as a guide for frontend/backend teams, reducing miscommunication.\n",
        "3️⃣ Improved Collaboration → Helps multiple teams work together by defining expectations before development.\n",
        "4️⃣ Automation & Testing → Tools like Swagger (OpenAPI) and Postman use API specifications for testing and validation.\n",
        "5️⃣ Scalability → Makes it easier to update and expand the API while maintaining compatibility."
      ],
      "metadata": {
        "id": "oZkYJdGZWVcp"
      }
    },
    {
      "cell_type": "markdown",
      "source": [
        "Q19. What are HTTP status codes, and why are they important in a Flask API?\n",
        "\n",
        " - HTTP status codes are three-digit responses returned by a server to indicate the outcome of a client's request. They help identify whether a request was successful, failed, or requires further action.\n",
        "\n",
        " Why Are HTTP Status Codes Important in a Flask API?\n",
        "\n",
        "1️⃣ Clear Communication → Tells clients whether a request was successful or encountered an error.\n",
        "2️⃣ Error Handling → Helps APIs handle failures properly by returning meaningful responses.\n",
        "3️⃣ Debugging & Logging → Useful for tracking issues and improving API performance.\n",
        "4️⃣ Standardized Responses → Ensures clients (frontend, mobile apps, or third-party services) can handle responses correctly."
      ],
      "metadata": {
        "id": "Od2BGR89WiZ1"
      }
    },
    {
      "cell_type": "markdown",
      "source": [
        "Q20. How do you handle POST requests in Flask?\n",
        "\n",
        " - Flask processes POST requests to receive and handle data sent from a client, such as form submissions or JSON payloads in an API.\n",
        "\n",
        "Steps to Handle a POST Request in Flask:\n",
        "\n",
        "1️⃣ Define a Route → Use @app.route() with methods=['POST'].\n",
        "\n",
        "2️⃣ Access Request Data → Extract data using request.form (form data) or request.json (JSON payload).\n",
        "\n",
        "3️⃣ Process the Data → Store in a database, perform validation, or return a response.\n",
        "\n",
        "4️⃣ Return a Response → Use jsonify() to send structured responses with appropriate HTTP status codes."
      ],
      "metadata": {
        "id": "FUWCvHjJWys1"
      }
    },
    {
      "cell_type": "markdown",
      "source": [
        "Q21. How would you secure a Flask API?\n",
        "\n",
        " - Securing a Flask API is essential to protect data, prevent unauthorized access, and safeguard against attacks. Below are key security practices:\n",
        "\n",
        "1️⃣ Authentication & Authorization\n",
        "Use JWT (JSON Web Tokens) or OAuth for authentication.\n",
        "\n",
        "Implement API keys or OAuth 2.0 for restricted access.\n",
        "\n",
        "2️⃣ Input Validation & Sanitization\n",
        "Validate user input to prevent SQL Injection and XSS attacks.\n",
        "\n",
        "Use libraries like Flask-WTF or marshmallow for input validation.\n",
        "\n",
        "3️⃣ Secure API Endpoints\n",
        "Use Flask’s @login_required for authentication.\n",
        "\n",
        "Restrict access to sensitive routes with role-based access control (RBAC).\n",
        "\n",
        "4️⃣ HTTPS & Secure Headers\n",
        "Enforce HTTPS using SSL/TLS to encrypt data transmission.\n",
        "\n",
        "Set secure headers with Flask-Talisman to prevent CORS vulnerabilities and clickjacking.\n",
        "\n",
        "5️⃣ Rate Limiting\n",
        "Implement rate limiting using Flask-Limiter to prevent DDoS attacks.\n",
        "\n",
        "6️⃣ Protect Against CSRF Attacks\n",
        "Use CSRF tokens (Flask-WTF) for form submissions.\n",
        "\n",
        "Enable CORS properly using Flask-CORS.\n",
        "\n",
        "7️⃣ Logging & Monitoring\n",
        "Enable error logging to track security threats.\n",
        "\n",
        "Use Flask-Logging or integrate with services like ELK stack, Datadog, or Sentry."
      ],
      "metadata": {
        "id": "3kbmHwP5X0UP"
      }
    },
    {
      "cell_type": "markdown",
      "source": [
        "Q22. What is the significance of the Flask-RESTful extension?\n",
        "\n",
        " - Significance of Flask-RESTful Extension\n",
        "\n",
        "Flask-RESTful is an extension that simplifies the creation of RESTful APIs in Flask. It provides a structured way to define API endpoints, handle requests, and manage responses efficiently."
      ],
      "metadata": {
        "id": "4UjjhTtTYMKJ"
      }
    },
    {
      "cell_type": "markdown",
      "source": [
        "Q23. What is the role of Flask’s session object?\n",
        "\n",
        " - Flask’s session object is used to store data across multiple requests for a specific user. It allows temporary data storage (e.g., authentication state, user preferences) that persists between requests."
      ],
      "metadata": {
        "id": "9ZIqgj-EYZK6"
      }
    },
    {
      "cell_type": "markdown",
      "source": [
        "# Practical"
      ],
      "metadata": {
        "id": "DdBmbjcpYi8q"
      }
    },
    {
      "cell_type": "code",
      "source": [
        "# 1. How do you create a basic Flask application\n",
        "\n",
        "from flask import Flask\n",
        "\n",
        "app = Flask(__name__)\n",
        "\n",
        "@app.route('/')\n",
        "def home():\n",
        "    return \"Hello, Flask!\"\n",
        "\n",
        "if __name__ == '__main__':\n",
        "    app.run(debug=True)\n"
      ],
      "metadata": {
        "colab": {
          "base_uri": "https://localhost:8080/"
        },
        "id": "6HoE3YIlYpG-",
        "outputId": "9fee3fd8-f49e-4544-9d09-bc541277dd6c"
      },
      "execution_count": 1,
      "outputs": [
        {
          "output_type": "stream",
          "name": "stdout",
          "text": [
            " * Serving Flask app '__main__'\n",
            " * Debug mode: on\n"
          ]
        },
        {
          "output_type": "stream",
          "name": "stderr",
          "text": [
            "INFO:werkzeug:\u001b[31m\u001b[1mWARNING: This is a development server. Do not use it in a production deployment. Use a production WSGI server instead.\u001b[0m\n",
            " * Running on http://127.0.0.1:5000\n",
            "INFO:werkzeug:\u001b[33mPress CTRL+C to quit\u001b[0m\n",
            "INFO:werkzeug: * Restarting with stat\n"
          ]
        }
      ]
    },
    {
      "cell_type": "code",
      "source": [
        "# 2. How do you serve static files like images or CSS in Flask\n",
        "\n",
        "from flask import Flask, send_from_directory\n",
        "\n",
        "app = Flask(__name__)\n",
        "\n",
        "@app.route('/static/<path:filename>')\n",
        "def serve_static(filename):\n",
        "    return send_from_directory('static', filename)\n",
        "\n",
        "if __name__ == '__main__':\n",
        "    app.run(debug=True)\n"
      ],
      "metadata": {
        "colab": {
          "base_uri": "https://localhost:8080/"
        },
        "id": "bsFRiReRZG43",
        "outputId": "9768bf9b-2aae-4eaa-b690-2fc1e2d2a8a9"
      },
      "execution_count": 2,
      "outputs": [
        {
          "output_type": "stream",
          "name": "stdout",
          "text": [
            " * Serving Flask app '__main__'\n",
            " * Debug mode: on\n"
          ]
        },
        {
          "output_type": "stream",
          "name": "stderr",
          "text": [
            "INFO:werkzeug:\u001b[31m\u001b[1mWARNING: This is a development server. Do not use it in a production deployment. Use a production WSGI server instead.\u001b[0m\n",
            " * Running on http://127.0.0.1:5000\n",
            "INFO:werkzeug:\u001b[33mPress CTRL+C to quit\u001b[0m\n",
            "INFO:werkzeug: * Restarting with stat\n"
          ]
        }
      ]
    },
    {
      "cell_type": "code",
      "source": [
        "# 3. How do you define different routes with different HTTP methods in Flask\n",
        "\n",
        "from flask import Flask, request\n",
        "\n",
        "app = Flask(__name__)\n",
        "\n",
        "@app.route('/users', methods=['GET', 'POST'])\n",
        "def users():\n",
        "    if request.method == 'GET':\n",
        "        return \"Fetching users\"\n",
        "    elif request.method == 'POST':\n",
        "        return \"Creating a new user\"\n",
        "\n",
        "@app.route('/users/<int:id>', methods=['PUT', 'DELETE'])\n",
        "def user(id):\n",
        "    if request.method == 'PUT':\n",
        "        return f\"Updating user {id}\"\n",
        "    elif request.method == 'DELETE':\n",
        "        return f\"Deleting user {id}\"\n",
        "\n",
        "if __name__ == '__main__':\n",
        "    app.run(debug=True)\n"
      ],
      "metadata": {
        "colab": {
          "base_uri": "https://localhost:8080/"
        },
        "id": "acHzImqzZWIE",
        "outputId": "604b3dee-c48d-4e6c-97b1-2283ee9951c8"
      },
      "execution_count": 3,
      "outputs": [
        {
          "output_type": "stream",
          "name": "stdout",
          "text": [
            " * Serving Flask app '__main__'\n",
            " * Debug mode: on\n"
          ]
        },
        {
          "output_type": "stream",
          "name": "stderr",
          "text": [
            "INFO:werkzeug:\u001b[31m\u001b[1mWARNING: This is a development server. Do not use it in a production deployment. Use a production WSGI server instead.\u001b[0m\n",
            " * Running on http://127.0.0.1:5000\n",
            "INFO:werkzeug:\u001b[33mPress CTRL+C to quit\u001b[0m\n",
            "INFO:werkzeug: * Restarting with stat\n"
          ]
        }
      ]
    },
    {
      "cell_type": "code",
      "source": [
        "# 4. How do you render HTML templates in Flask\n",
        "\n",
        "# -Flask uses the Jinja2 templating engine to render dynamic HTML pages. You can store HTML files inside a templates/ folder and use render_template() to serve them."
      ],
      "metadata": {
        "id": "oI6w7884ZihE"
      },
      "execution_count": 4,
      "outputs": []
    },
    {
      "cell_type": "markdown",
      "source": [
        "Q5. How can you generate URLs for routes in Flask using url_for?\n",
        "\n",
        " -\n",
        " ```\n",
        " from flask import Flask, url_for\n",
        "\n",
        " app = Flask(__name__)\n",
        "\n",
        " @app.route('/home')\n",
        "def home():\n",
        "    return \"Welcome to Home Page\"\n",
        "\n",
        " @app.route('/dashboard')\n",
        "def dashboard():\n",
        "    return f\"Dashboard URL: {url_for('dashboard')}\"\n",
        "\n",
        " if __name__ == '__main__':\n",
        "    app.run(debug=True\n",
        "```"
      ],
      "metadata": {
        "id": "BpZNj8nYaM7u"
      }
    },
    {
      "cell_type": "markdown",
      "source": [
        "Q6.  How do you handle forms in Flask?\n",
        "\n",
        " -\n",
        "\n",
        "```\n",
        "from flask import Flask, request, render_template\n",
        "\n",
        " app = Flask(__name__)\n",
        "\n",
        " @app.route('/')\n",
        "def index():\n",
        "    return render_template('form.html')\n",
        "\n",
        " @app.route('/submit', methods=['POST'])\n",
        "def submit():\n",
        "    name = request.form['name']\n",
        "    return f\"Hello, {name}!\"\n",
        "\n",
        " if __name__ == '__main__':\n",
        "    app.run(debug=True)\n",
        "\n"
      ],
      "metadata": {
        "id": "3iow7IiLbGbP"
      }
    },
    {
      "cell_type": "markdown",
      "source": [
        "Q7. How can you validate form data in Flask?\n",
        "\n",
        " -\n",
        "\n",
        "\n",
        "```\n",
        "from flask import Flask, request, render_template\n",
        "\n",
        "app = Flask(__name__)\n",
        "\n",
        "@app.route('/', methods=['GET', 'POST'])\n",
        "def form():\n",
        "    error = None\n",
        "    if request.method == 'POST':\n",
        "        name = request.form.get('name')\n",
        "        email = request.form.get('email')\n",
        "\n",
        "        if not name or not email:\n",
        "            error = \"Name and Email are required!\"\n",
        "        elif \"@\" not in email:\n",
        "            error = \"Invalid email format!\"\n",
        "        else:\n",
        "            return f\"Welcome, {name}!\"\n",
        "\n",
        "    return render_template('form.html', error=error)\n",
        "\n",
        "if __name__ == '__main__':\n",
        "    app.run(debug=True)\n",
        "\n",
        "```\n",
        "\n"
      ],
      "metadata": {
        "id": "M12A3sYZbrCe"
      }
    },
    {
      "cell_type": "markdown",
      "source": [
        "Q8. How do you manage sessions in Flask?\n",
        "\n",
        "\n",
        "\n",
        "```\n",
        "from flask import Flask, session\n",
        "\n",
        "app = Flask(__name__)\n",
        "app.secret_key = \"your_secret_key\"  # Required for session security\n",
        "\n",
        "```\n",
        "\n"
      ],
      "metadata": {
        "id": "Hf6SBPsqb2FM"
      }
    },
    {
      "cell_type": "markdown",
      "source": [
        "Q9. How do you redirect to a different route in Flask?\n",
        "\n",
        "\n",
        "\n",
        "```\n",
        "from flask import Flask, redirect, url_for\n",
        "\n",
        "app = Flask(__name__)\n",
        "\n",
        "@app.route('/')\n",
        "def home():\n",
        "    return \"Welcome to the Home Page!\"\n",
        "\n",
        "@app.route('/dashboard')\n",
        "def dashboard():\n",
        "    return \"This is the Dashboard.\"\n",
        "\n",
        "@app.route('/go-to-dashboard')\n",
        "def go_to_dashboard():\n",
        "    return redirect(url_for('dashboard'))  # Redirects to /dashboard\n",
        "\n",
        "if __name__ == '__main__':\n",
        "    app.run(debug=True)\n",
        "\n",
        "```\n",
        "\n"
      ],
      "metadata": {
        "id": "yxX7rO6ocAy3"
      }
    },
    {
      "cell_type": "markdown",
      "source": [
        "Q10. How do you handle errors in Flask (e.g., 404)?\n",
        "\n",
        "\n",
        "\n",
        "```\n",
        "from flask import Flask, render_template\n",
        "\n",
        "app = Flask(__name__)\n",
        "\n",
        "@app.errorhandler(404)\n",
        "def page_not_found(error):\n",
        "    return render_template('404.html'), 404  # Return custom 404 page\n",
        "\n",
        "```\n",
        "\n"
      ],
      "metadata": {
        "id": "IWC7omZncK-F"
      }
    },
    {
      "cell_type": "markdown",
      "source": [
        "Q11. How do you structure a Flask app using Blueprints?\n",
        "\n",
        "\n",
        "\n",
        "```\n",
        "from flask import Blueprint, render_template\n",
        "\n",
        "# Create Blueprint instance\n",
        "users_bp = Blueprint('users', __name__, url_prefix='/users')\n",
        "\n",
        "@users_bp.route('/')\n",
        "def user_home():\n",
        "    return \"User Home Page\"\n",
        "\n",
        "@users_bp.route('/profile')\n",
        "def profile():\n",
        "    return \"User Profile Page\"\n",
        "\n",
        "```\n",
        "\n"
      ],
      "metadata": {
        "id": "xSeZUqLucVln"
      }
    },
    {
      "cell_type": "markdown",
      "source": [
        "Q12. How do you define a custom Jinja filter in Flask?\n",
        "\n",
        "\n",
        "\n",
        "```\n",
        "from flask import Flask, render_template\n",
        "\n",
        "app = Flask(__name__)\n",
        "\n",
        "# Custom Jinja filter: Reverse a string\n",
        "@app.template_filter('reverse')\n",
        "def reverse_string(value):\n",
        "    return value[::-1]\n",
        "\n",
        "@app.route('/')\n",
        "def home():\n",
        "    return render_template('index.html', name=\"Flask\")\n",
        "\n",
        "if __name__ == '__main__':\n",
        "    app.run(debug=True)\n",
        "\n",
        "```\n",
        "\n"
      ],
      "metadata": {
        "id": "6Fr3nPaacgPw"
      }
    },
    {
      "cell_type": "markdown",
      "source": [
        "Q13. How can you redirect with query parameters in Flask?\n",
        "\n",
        "\n",
        "\n",
        "```\n",
        "from flask import Flask, redirect, url_for, request\n",
        "\n",
        "app = Flask(__name__)\n",
        "\n",
        "@app.route('/')\n",
        "def home():\n",
        "    return \"Welcome to the Home Page!\"\n",
        "\n",
        "@app.route('/search')\n",
        "def search():\n",
        "    query = request.args.get('q', 'No query provided')\n",
        "    return f\"Search results for: {query}\"\n",
        "\n",
        "@app.route('/go-to-search')\n",
        "def go_to_search():\n",
        "    return redirect(url_for('search', q='Flask tutorial'))\n",
        "\n",
        "```\n",
        "\n"
      ],
      "metadata": {
        "id": "TlKCncI3ct6o"
      }
    },
    {
      "cell_type": "markdown",
      "source": [
        "Q14. How do you return JSON responses in Flask?\n",
        "\n",
        "\n",
        "\n",
        "```\n",
        "from flask import Flask, jsonify\n",
        "\n",
        "app = Flask(__name__)\n",
        "\n",
        "@app.route('/api/data')\n",
        "def get_data():\n",
        "    data = {\"name\": \"Flask\", \"version\": \"2.0\"}\n",
        "    return jsonify(data)  # Converts dictionary to JSON response\n",
        "\n",
        "if __name__ == '__main__':\n",
        "    app.run(debug=True)\n",
        "\n",
        "```\n",
        "\n"
      ],
      "metadata": {
        "id": "4ND--6MTc7oQ"
      }
    },
    {
      "cell_type": "markdown",
      "source": [
        "Q15. How do you capture URL parameters in Flask?\n",
        "\n",
        "\n",
        "\n",
        "```\n",
        "from flask import Flask\n",
        "\n",
        "app = Flask(__name__)\n",
        "\n",
        "@app.route('/user/<username>')\n",
        "def show_user(username):\n",
        "    return f\"User: {username}\"\n",
        "\n",
        "if __name__ == '__main__':\n",
        "    app.run(debug=True)\n",
        "\n",
        "```\n",
        "\n"
      ],
      "metadata": {
        "id": "02JtC6cQdF8-"
      }
    }
  ]
}